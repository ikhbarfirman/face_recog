{
 "cells": [
  {
   "cell_type": "code",
   "execution_count": 1,
   "metadata": {},
   "outputs": [],
   "source": [
    "import numpy as np\n",
    "import os\n",
    "from PIL import Image# confirm mtcnn was installed correctly\n",
    "import matplotlib.pyplot as plt\n",
    "import mtcnn\n",
    "import cv2"
   ]
  },
  {
   "cell_type": "code",
   "execution_count": 2,
   "metadata": {},
   "outputs": [],
   "source": [
    "detector = mtcnn.MTCNN()\n",
    "\n",
    "def detect_face(path_image,size=(160,160)):\n",
    "    get_array = cv2.imread(path_image)\n",
    "    get_array = cv2.cvtColor(get_array, cv2.COLOR_BGR2RGB)\n",
    "    get_face = detector.detect_faces(get_array)\n",
    "    if len(get_face) > 0:\n",
    "        x1, y1, width, height = get_face[0]['box']\n",
    "        x2, y2 = x1 + width, y1+ height\n",
    "        face_array = get_array[y1:y2,x1:x2]\n",
    "        image = Image.fromarray(face_array).resize(size)\n",
    "        face_array_final = np.asarray(image)\n",
    "        return face_array_final\n",
    "    else: pass"
   ]
  },
  {
   "cell_type": "code",
   "execution_count": 3,
   "metadata": {},
   "outputs": [
    {
     "name": "stdout",
     "output_type": "stream",
     "text": [
      "WARNING:tensorflow:5 out of the last 10 calls to <function Model.make_predict_function.<locals>.predict_function at 0x0000022042F09F28> triggered tf.function retracing. Tracing is expensive and the excessive number of tracings could be due to (1) creating @tf.function repeatedly in a loop, (2) passing tensors with different shapes, (3) passing Python objects instead of tensors. For (1), please define your @tf.function outside of the loop. For (2), @tf.function has experimental_relax_shapes=True option that relaxes argument shapes that can avoid unnecessary retracing. For (3), please refer to https://www.tensorflow.org/guide/function#controlling_retracing and https://www.tensorflow.org/api_docs/python/tf/function for  more details.\n"
     ]
    }
   ],
   "source": [
    "\n",
    "img_path = 'data_image'\n",
    "X = []\n",
    "y = []\n",
    "for celeb in os.listdir(img_path):\n",
    "    path_ = img_path + '/' + celeb\n",
    "    list_image = os.listdir(path_)\n",
    "    if '.ipynb_checkpoints' in list_image:\n",
    "        list_image.remove('.ipynb_checkpoints')\n",
    "    else: pass    \n",
    "    for img in list_image:\n",
    "        full_path = path_ + '/' + img\n",
    "        img_array = detect_face(full_path)\n",
    "        if type(img_array) == np.ndarray:\n",
    "            img_array_scaled = img_array/255\n",
    "            y_label = celeb\n",
    "            X.append(img_array_scaled)\n",
    "            y.append(y_label)\n",
    "        else: pass"
   ]
  },
  {
   "cell_type": "code",
   "execution_count": 4,
   "metadata": {},
   "outputs": [],
   "source": [
    "X_array = np.array(X)\n",
    "y_array = np.array(y)\n",
    "\n",
    "# np.save('X_array.npy',X_array)\n",
    "# np.save('y_array.npy',y_array)\n",
    "\n",
    "# X_array = np.load('X_array.npy')\n",
    "# y_array = np.load('y_array.npy')"
   ]
  },
  {
   "cell_type": "code",
   "execution_count": 5,
   "metadata": {},
   "outputs": [],
   "source": [
    "from sklearn.preprocessing import LabelEncoder\n",
    "import pandas as pd\n",
    "\n",
    "encoder = LabelEncoder()\n",
    "y_encoded = encoder.fit_transform(y_array)\n",
    "\n",
    "y_ohe = pd.get_dummies(y_encoded).values"
   ]
  },
  {
   "cell_type": "code",
   "execution_count": 6,
   "metadata": {},
   "outputs": [
    {
     "name": "stdout",
     "output_type": "stream",
     "text": [
      "WARNING:tensorflow:No training configuration found in the save file, so the model was *not* compiled. Compile it manually.\n"
     ]
    }
   ],
   "source": [
    "from scipy.spatial import distance\n",
    "from keras.models import load_model\n",
    "from sklearn.preprocessing import Normalizer, StandardScaler\n",
    "from sklearn.svm import SVC\n",
    "from sklearn.metrics import accuracy_score,classification_report\n",
    "from sklearn.linear_model import LogisticRegression\n",
    "from sklearn.neighbors import KNeighborsClassifier\n",
    "from sklearn.naive_bayes import GaussianNB\n",
    "\n",
    "# load the model\n",
    "model_facenet = load_model('facenet_model/facenet_keras.h5')"
   ]
  },
  {
   "cell_type": "code",
   "execution_count": 7,
   "metadata": {},
   "outputs": [],
   "source": [
    "X_embed = model_facenet.predict(X_array)\n",
    "X_embed_scaled = Normalizer(norm='l2').transform(X_embed)\n",
    "# X_embed_scaled = StandardScaler().fit_transform(X_embed)"
   ]
  },
  {
   "attachments": {},
   "cell_type": "markdown",
   "metadata": {},
   "source": [
    "## Get mean distance"
   ]
  },
  {
   "cell_type": "code",
   "execution_count": null,
   "metadata": {},
   "outputs": [],
   "source": [
    "mean_ikh = np.mean(X_embed_scaled[y_array == 'ikhbar'],axis=0)\n",
    "mean_toni = np.mean(X_embed_scaled[y_array == 'toni'],axis=0)\n",
    "\n",
    "np.save('mean_ikh.npy',mean_ikh)\n",
    "np.save('mean_toni.npy',mean_toni)"
   ]
  },
  {
   "attachments": {},
   "cell_type": "markdown",
   "metadata": {},
   "source": [
    "## Classifier Model"
   ]
  },
  {
   "cell_type": "code",
   "execution_count": 8,
   "metadata": {},
   "outputs": [
    {
     "data": {
      "text/plain": [
       "SVC(C=1, kernel='linear', probability=True)"
      ]
     },
     "execution_count": 8,
     "metadata": {},
     "output_type": "execute_result"
    }
   ],
   "source": [
    "#instantiate the model \n",
    "svc_clf = SVC(C=1,kernel='linear',probability=True)\n",
    "#fit the model\n",
    "svc_clf.fit(X_embed_scaled,y_array)"
   ]
  },
  {
   "cell_type": "code",
   "execution_count": 19,
   "metadata": {},
   "outputs": [
    {
     "data": {
      "text/plain": [
       "LogisticRegression(C=1)"
      ]
     },
     "execution_count": 19,
     "metadata": {},
     "output_type": "execute_result"
    }
   ],
   "source": [
    "logreg = LogisticRegression(C=1)\n",
    "logreg.fit(X_embed_scaled,y_array)"
   ]
  },
  {
   "cell_type": "code",
   "execution_count": 20,
   "metadata": {},
   "outputs": [
    {
     "data": {
      "text/plain": [
       "KNeighborsClassifier(n_neighbors=3)"
      ]
     },
     "execution_count": 20,
     "metadata": {},
     "output_type": "execute_result"
    }
   ],
   "source": [
    "knn = KNeighborsClassifier(n_neighbors=3)\n",
    "knn.fit(X_embed_scaled,y_array)"
   ]
  },
  {
   "cell_type": "code",
   "execution_count": 21,
   "metadata": {},
   "outputs": [
    {
     "data": {
      "text/plain": [
       "GaussianNB()"
      ]
     },
     "execution_count": 21,
     "metadata": {},
     "output_type": "execute_result"
    }
   ],
   "source": [
    "gnb = GaussianNB()\n",
    "gnb.fit(X_embed_scaled,y_array)"
   ]
  },
  {
   "cell_type": "code",
   "execution_count": 9,
   "metadata": {},
   "outputs": [],
   "source": [
    "preds_svc_train = svc_clf.predict(X_embed_scaled)\n",
    "# pred_logreg = logreg.predict(X_embed_scaled)\n",
    "# pred_knn = knn.predict(X_embed_scaled)\n",
    "# pred_gnb = gnb.predict(X_embed_scaled)"
   ]
  },
  {
   "cell_type": "code",
   "execution_count": 10,
   "metadata": {},
   "outputs": [
    {
     "name": "stdout",
     "output_type": "stream",
     "text": [
      "Train accuracy SVC: 1.0\n"
     ]
    }
   ],
   "source": [
    "print('Train accuracy SVC:',accuracy_score(y_array,preds_svc_train))\n",
    "# print('Train accuracy Logreg:',accuracy_score(y_array,pred_logreg))\n",
    "# print('Train accuracy knn:',accuracy_score(y_array,pred_knn))\n",
    "# print('Train accuracy gnb:',accuracy_score(y_array,pred_gnb))"
   ]
  },
  {
   "cell_type": "code",
   "execution_count": 11,
   "metadata": {},
   "outputs": [
    {
     "name": "stdout",
     "output_type": "stream",
     "text": [
      "              precision    recall  f1-score   support\n",
      "\n",
      "      ikhbar       1.00      1.00      1.00         8\n",
      "        toni       1.00      1.00      1.00         6\n",
      "\n",
      "    accuracy                           1.00        14\n",
      "   macro avg       1.00      1.00      1.00        14\n",
      "weighted avg       1.00      1.00      1.00        14\n",
      "\n"
     ]
    }
   ],
   "source": [
    "print(classification_report(y_array,preds_svc_train))\n",
    "# print(20*'-')\n",
    "# print(classification_report(y_array,pred_logreg))\n",
    "# print(20*'-')\n",
    "# print(classification_report(y_array,pred_knn))\n",
    "# print(20*'-')\n",
    "# print(classification_report(y_array,pred_gnb))"
   ]
  },
  {
   "cell_type": "code",
   "execution_count": 12,
   "metadata": {},
   "outputs": [],
   "source": [
    "import pickle\n",
    "with open('face_svc_ikh_toni.pkl', 'wb') as file_1:\n",
    "  pickle.dump(svc_clf, file_1)\n",
    "\n",
    "# with open('face_logreg_ikh_toni.pkl', 'wb') as file_2:\n",
    "#   pickle.dump(logreg, file_2)\n",
    "\n",
    "# with open('face_knn_ikh_toni.pkl', 'wb') as file_3:\n",
    "#   pickle.dump(knn, file_3)\n",
    "\n",
    "# with open('face_gnb_ikh_toni.pkl', 'wb') as file_4:\n",
    "#   pickle.dump(gnb, file_4)"
   ]
  },
  {
   "cell_type": "code",
   "execution_count": null,
   "metadata": {},
   "outputs": [],
   "source": []
  }
 ],
 "metadata": {
  "kernelspec": {
   "display_name": "face_recog",
   "language": "python",
   "name": "python3"
  },
  "language_info": {
   "codemirror_mode": {
    "name": "ipython",
    "version": 3
   },
   "file_extension": ".py",
   "mimetype": "text/x-python",
   "name": "python",
   "nbconvert_exporter": "python",
   "pygments_lexer": "ipython3",
   "version": "3.6.13"
  },
  "orig_nbformat": 4,
  "vscode": {
   "interpreter": {
    "hash": "e2ad4dc0607f846a8c2fd6d27bee2f986a936d44c34c2dc1627034aa43faea5d"
   }
  }
 },
 "nbformat": 4,
 "nbformat_minor": 2
}
